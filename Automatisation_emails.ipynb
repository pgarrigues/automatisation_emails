{
 "cells": [
  {
   "cell_type": "markdown",
   "id": "7f719eaf-e5af-4459-a7f4-46ad7490ec45",
   "metadata": {},
   "source": [
    "# Automatisation d'emails"
   ]
  },
  {
   "cell_type": "markdown",
   "id": "b9c5f0df-329d-47f8-ad37-2ff9cbc13004",
   "metadata": {},
   "source": [
    "Objectif : envoyer un email avec du contenu provenant d'internet"
   ]
  },
  {
   "cell_type": "markdown",
   "id": "e4880d40-9123-4282-8265-897102395fd0",
   "metadata": {},
   "source": [
    "https://www.youtube.com/watch?v=s8XjEuplx_U"
   ]
  },
  {
   "cell_type": "markdown",
   "id": "aaff4c85-251d-4234-9a67-0566dae53d66",
   "metadata": {},
   "source": [
    "Librairies dont on va avoir besoin :\n",
    "- requests\n",
    "- bs4\n",
    "- smtplib (default)\n",
    "- email.mime (default)\n",
    "- datetime (default)"
   ]
  },
  {
   "cell_type": "code",
   "execution_count": 91,
   "id": "4410341e-9b5b-4323-b309-27e7d9131ac0",
   "metadata": {},
   "outputs": [],
   "source": [
    "import requests"
   ]
  },
  {
   "cell_type": "code",
   "execution_count": 92,
   "id": "42469c07-29a7-40b4-b660-b4fd1644f851",
   "metadata": {},
   "outputs": [],
   "source": [
    "import bs4\n",
    "import smtplib\n",
    "import email.mime\n",
    "from email.mime.multipart import MIMEMultipart\n",
    "from email.mime.text import MIMEText\n",
    "import datetime"
   ]
  },
  {
   "cell_type": "code",
   "execution_count": 94,
   "id": "5dc6f528-957f-4bbc-9554-4f4a6422c6d7",
   "metadata": {},
   "outputs": [],
   "source": [
    "from bs4 import BeautifulSoup"
   ]
  },
  {
   "cell_type": "code",
   "execution_count": 95,
   "id": "340e8498-54b5-4ae2-877a-eb9eba71ea96",
   "metadata": {
    "tags": []
   },
   "outputs": [],
   "source": [
    "now = datetime.datetime.now()"
   ]
  },
  {
   "cell_type": "code",
   "execution_count": 96,
   "id": "9904cc1d-d3f5-442e-9ddf-62fc1a7265a2",
   "metadata": {},
   "outputs": [
    {
     "data": {
      "text/plain": [
       "datetime.datetime(2021, 11, 5, 14, 56, 26, 694682)"
      ]
     },
     "execution_count": 96,
     "metadata": {},
     "output_type": "execute_result"
    }
   ],
   "source": [
    "now"
   ]
  },
  {
   "cell_type": "code",
   "execution_count": 97,
   "id": "422485f7-1490-4ebb-9fff-375421d08e28",
   "metadata": {},
   "outputs": [],
   "source": [
    "# email content placeholder\n",
    "content = ' '"
   ]
  },
  {
   "cell_type": "code",
   "execution_count": 98,
   "id": "481ec25b-c7de-4822-94c3-87b01aec4570",
   "metadata": {},
   "outputs": [],
   "source": [
    "# extracting Hacker News Stories\n",
    "\n",
    "def extract_news(url):\n",
    "    print('Extracting Hacker News Stories...')\n",
    "    cnt = ''\n",
    "    cnt +=('<b>HN Top Stories:</b>\\n'+'<br>'+'-'*50+'<br>')\n",
    "    response = requests.get(url)\n",
    "    content = response.content\n",
    "    soup = BeautifulSoup(content,'html.parser')\n",
    "    for i,tag in enumerate(soup.find_all('td',attrs={'class':'title','valign':''})):\n",
    "        cnt += ((str(i+1)+' :: '+tag.text + \"\\n\" + '<br>') if tag.text!='More' else '')\n",
    "        #print(tag.prettify) #find_all('span',attrs={'class':'sitestr'}))\n",
    "    return(cnt)"
   ]
  },
  {
   "cell_type": "code",
   "execution_count": 99,
   "id": "232da13b-e206-400f-a563-297baa1fe212",
   "metadata": {},
   "outputs": [
    {
     "name": "stdout",
     "output_type": "stream",
     "text": [
      "Extracting Hacker News Stories...\n"
     ]
    }
   ],
   "source": [
    "cnt = extract_news('https://news.ycombinator.com/')"
   ]
  },
  {
   "cell_type": "code",
   "execution_count": 100,
   "id": "7b0c1507-d69f-4045-8063-2722eeb0cf11",
   "metadata": {},
   "outputs": [
    {
     "data": {
      "text/plain": [
       "' '"
      ]
     },
     "execution_count": 100,
     "metadata": {},
     "output_type": "execute_result"
    }
   ],
   "source": [
    "content"
   ]
  },
  {
   "cell_type": "code",
   "execution_count": 101,
   "id": "ad2aced7-a1fa-42a3-8eb2-abc93270137d",
   "metadata": {},
   "outputs": [],
   "source": [
    "content += cnt"
   ]
  },
  {
   "cell_type": "code",
   "execution_count": 102,
   "id": "fdb9c3e0-9283-4925-b17a-b63c7e6f566b",
   "metadata": {},
   "outputs": [],
   "source": [
    "content += ('<br>------<br>')\n",
    "content +=('<br><br>End of Message')"
   ]
  },
  {
   "cell_type": "code",
   "execution_count": 103,
   "id": "f68d74f2-6603-4811-bd08-a1f85c71cfef",
   "metadata": {},
   "outputs": [
    {
     "data": {
      "text/plain": [
       "\" <b>HN Top Stories:</b>\\n<br>--------------------------------------------------<br>1 :: Pfizer's oral Covid-19 antiviral cuts hospitalization, death by 85% (fiercebiotech.com)\\n<br>2 :: Launch HN: Terra (YC W21) – API to easily connect wearables to apps (tryterra.co)\\n<br>3 :: Why is Excalidraw so good? (offbyone.us)\\n<br>4 :: Peeking Through Logs (madhouse-project.org)\\n<br>5 :: So you want to Scrape like the Big Boys? (incolumitas.com)\\n<br>6 :: The “Ultimate” ThinkPad (2020) (calbryant.uk)\\n<br>7 :: React Aria: A headless UI component library (adobe.com)\\n<br>8 :: From macOS to Arch Linux (juxt.pro)\\n<br>9 :: Leipzig: A walk around a city reborn (literaryreview.co.uk)\\n<br>10 :: Factored Quality (YC W20) Is Hiring a Front End Engineer (4 Years Experience)\\n<br>11 :: Show HN: View the patent and innovation history of any company (goodip.io)\\n<br>12 :: Wasp: WASM Programming Language (github.com/pannous)\\n<br>13 :: How to learn compilers: LLVM Edition (lowlevelbits.org)\\n<br>14 :: Calm Technology (calmtech.com)\\n<br>15 :: Museum of Food and Drink (mofad.org)\\n<br>16 :: Anti-Patterns to Avoid in Lambda Based Apps (basimhennawi.com)\\n<br>17 :: M1 Pro First Impressions: Core Management and CPU Performance (eclecticlight.co)\\n<br>18 :: DJI Mavic 3 Drone (dji.com)\\n<br>19 :: Smart sunglasses with lenses displaying real-time data for cyclers (road.cc)\\n<br>20 :: The decline of baleen whales has led to a decline of krill, researchers find (stanford.edu)\\n<br>21 :: Pollinator Pathmaker (pollinator.art)\\n<br>22 :: An oral history of Bank Python (calpaterson.com)\\n<br>23 :: Will it rot my students' brains if they use Mathematica? (2002) (theodoregray.com)\\n<br>24 :: WhatsApp: My Security code changed for all contacts (No login or logout) (reddit.com)\\n<br>25 :: Optick: C++ Profiler for Games (github.com/bombomby)\\n<br>26 :: Why the Job Search Sucks (2018) (webb.page)\\n<br>27 :: Joe's Online WAD Editor and Creator (wad-editor.vercel.app)\\n<br>28 :: Embedded Malware in Coa (github.com/advisories)\\n<br>29 :: The Soviet 1801VM2 LSI-11 Processor (cpushack.com)\\n<br>30 :: Widespread security risk identified in phones and Bluetooth devices (ieee.org)\\n<br><br>------<br><br><br>End of Message\""
      ]
     },
     "execution_count": 103,
     "metadata": {},
     "output_type": "execute_result"
    }
   ],
   "source": [
    "content"
   ]
  },
  {
   "cell_type": "markdown",
   "id": "dae1fc07-7a25-466e-af8e-33947c066f2c",
   "metadata": {},
   "source": [
    "### A présent, il faut envoyer le mail"
   ]
  },
  {
   "cell_type": "code",
   "execution_count": 104,
   "id": "e4798c1b-bf69-46b8-82f3-9353e738534d",
   "metadata": {},
   "outputs": [],
   "source": [
    "# update email details"
   ]
  },
  {
   "cell_type": "code",
   "execution_count": 116,
   "id": "6c9f188d-754a-496d-81fc-a5b519d411c5",
   "metadata": {},
   "outputs": [],
   "source": [
    "SERVER = 'smtp.gmail.com' # your smtp server\n",
    "PORT = 587 # port number\n",
    "FROM = '********' # email adress\n",
    "TO = '*******' # destination email adress\n",
    "PASS = '*****' # password"
   ]
  },
  {
   "cell_type": "markdown",
   "id": "da78c039-c201-43d7-8101-bfe5cc989458",
   "metadata": {},
   "source": [
    "Il faut créer l'email en MIMEMultipart"
   ]
  },
  {
   "cell_type": "code",
   "execution_count": 106,
   "id": "ad43f8ce-2b63-4f5d-a80b-a1e9a69affff",
   "metadata": {},
   "outputs": [],
   "source": [
    "msg = MIMEMultipart()"
   ]
  },
  {
   "cell_type": "code",
   "execution_count": 107,
   "id": "f1ee763b-e437-419e-abe9-0f8f80ed87ba",
   "metadata": {},
   "outputs": [],
   "source": [
    "msg['Subject'] =  'Top News Stories HN' + ' ' + str(now.day) + '-' + str(now.month) + '-' + str(\n",
    "    now.year)"
   ]
  },
  {
   "cell_type": "code",
   "execution_count": 108,
   "id": "96b1010f-0e1a-4091-8a87-3e2ead3ed004",
   "metadata": {},
   "outputs": [],
   "source": [
    "msg['From'] = FROM"
   ]
  },
  {
   "cell_type": "code",
   "execution_count": 109,
   "id": "5d310bc9-940d-4efe-9df7-2cc9f19bd47e",
   "metadata": {},
   "outputs": [],
   "source": [
    "msg['To'] = TO"
   ]
  },
  {
   "cell_type": "code",
   "execution_count": 110,
   "id": "29d830b2-29fe-46a4-b3a6-19579a564fd4",
   "metadata": {},
   "outputs": [],
   "source": [
    "msg.attach(MIMEText(content, 'html'))"
   ]
  },
  {
   "cell_type": "markdown",
   "id": "667866c4-7cea-4275-9dbf-7cb4513cb3ed",
   "metadata": {},
   "source": [
    "On s'occupe du server à présent"
   ]
  },
  {
   "cell_type": "code",
   "execution_count": 111,
   "id": "66d42736-6815-4742-8ab4-5858a78a067f",
   "metadata": {},
   "outputs": [],
   "source": [
    "server = smtplib.SMTP(SERVER, PORT)"
   ]
  },
  {
   "cell_type": "markdown",
   "id": "0c121994-bb2d-4718-bfe4-a214fb1956ab",
   "metadata": {},
   "source": [
    "Avant d'envoyer le mail il faut se rendre dans le google account pour modifier quelques paramètres\n",
    "https://myaccount.google.com/security\n",
    "Accès moins sécurisé des applications -> Turn On"
   ]
  },
  {
   "cell_type": "code",
   "execution_count": 112,
   "id": "9de40be1-aef7-431a-916d-1460dc39ef77",
   "metadata": {},
   "outputs": [
    {
     "name": "stderr",
     "output_type": "stream",
     "text": [
      "send: 'ehlo pp182.ad.phedre.fr\\r\\n'\n",
      "reply: b'250-smtp.gmail.com at your service, [37.1.241.158]\\r\\n'\n",
      "reply: b'250-SIZE 35882577\\r\\n'\n",
      "reply: b'250-8BITMIME\\r\\n'\n",
      "reply: b'250-STARTTLS\\r\\n'\n",
      "reply: b'250-ENHANCEDSTATUSCODES\\r\\n'\n",
      "reply: b'250-PIPELINING\\r\\n'\n",
      "reply: b'250-CHUNKING\\r\\n'\n",
      "reply: b'250 SMTPUTF8\\r\\n'\n",
      "reply: retcode (250); Msg: b'smtp.gmail.com at your service, [37.1.241.158]\\nSIZE 35882577\\n8BITMIME\\nSTARTTLS\\nENHANCEDSTATUSCODES\\nPIPELINING\\nCHUNKING\\nSMTPUTF8'\n",
      "send: 'STARTTLS\\r\\n'\n",
      "reply: b'220 2.0.0 Ready to start TLS\\r\\n'\n",
      "reply: retcode (220); Msg: b'2.0.0 Ready to start TLS'\n"
     ]
    },
    {
     "data": {
      "text/plain": [
       "(220, b'2.0.0 Ready to start TLS')"
      ]
     },
     "execution_count": 112,
     "metadata": {},
     "output_type": "execute_result"
    }
   ],
   "source": [
    "#server = smtplib.SMTP_SSL('smtp.gmail.com', 465)\n",
    "server.set_debuglevel(1)\n",
    "server.ehlo()\n",
    "server.starttls()\n",
    "#server.ehlo"
   ]
  },
  {
   "cell_type": "code",
   "execution_count": 113,
   "id": "023df303-7aea-488d-8eb9-fbf2618128f5",
   "metadata": {},
   "outputs": [
    {
     "name": "stderr",
     "output_type": "stream",
     "text": [
      "send: 'ehlo pp182.ad.phedre.fr\\r\\n'\n",
      "reply: b'250-smtp.gmail.com at your service, [37.1.241.158]\\r\\n'\n",
      "reply: b'250-SIZE 35882577\\r\\n'\n",
      "reply: b'250-8BITMIME\\r\\n'\n",
      "reply: b'250-AUTH LOGIN PLAIN XOAUTH2 PLAIN-CLIENTTOKEN OAUTHBEARER XOAUTH\\r\\n'\n",
      "reply: b'250-ENHANCEDSTATUSCODES\\r\\n'\n",
      "reply: b'250-PIPELINING\\r\\n'\n",
      "reply: b'250-CHUNKING\\r\\n'\n",
      "reply: b'250 SMTPUTF8\\r\\n'\n",
      "reply: retcode (250); Msg: b'smtp.gmail.com at your service, [37.1.241.158]\\nSIZE 35882577\\n8BITMIME\\nAUTH LOGIN PLAIN XOAUTH2 PLAIN-CLIENTTOKEN OAUTHBEARER XOAUTH\\nENHANCEDSTATUSCODES\\nPIPELINING\\nCHUNKING\\nSMTPUTF8'\n",
      "send: 'AUTH PLAIN AHBpZXJyZWxvdXBnYXJyaWd1ZXNAZ21haWwuY29tAENAbnlvbjkx\\r\\n'\n",
      "reply: b'235 2.7.0 Accepted\\r\\n'\n",
      "reply: retcode (235); Msg: b'2.7.0 Accepted'\n"
     ]
    },
    {
     "data": {
      "text/plain": [
       "(235, b'2.7.0 Accepted')"
      ]
     },
     "execution_count": 113,
     "metadata": {},
     "output_type": "execute_result"
    }
   ],
   "source": [
    "server.login(FROM, PASS)"
   ]
  },
  {
   "cell_type": "code",
   "execution_count": 114,
   "id": "aab494c9-f3d6-434e-b275-e8ecddb6a5f0",
   "metadata": {},
   "outputs": [
    {
     "name": "stderr",
     "output_type": "stream",
     "text": [
      "send: 'mail FROM:<pierreloupgarrigues@gmail.com> size=3387\\r\\n'\n",
      "reply: b'250 2.1.0 OK j10sm7995219wru.15 - gsmtp\\r\\n'\n",
      "reply: retcode (250); Msg: b'2.1.0 OK j10sm7995219wru.15 - gsmtp'\n",
      "send: 'rcpt TO:<pierre-loupg@hotmail.fr>\\r\\n'\n",
      "reply: b'250 2.1.5 OK j10sm7995219wru.15 - gsmtp\\r\\n'\n",
      "reply: retcode (250); Msg: b'2.1.5 OK j10sm7995219wru.15 - gsmtp'\n",
      "send: 'data\\r\\n'\n",
      "reply: b'354  Go ahead j10sm7995219wru.15 - gsmtp\\r\\n'\n",
      "reply: retcode (354); Msg: b'Go ahead j10sm7995219wru.15 - gsmtp'\n",
      "data: (354, b'Go ahead j10sm7995219wru.15 - gsmtp')\n",
      "send: b'Content-Type: multipart/mixed; boundary=\"===============5857226457224904349==\"\\r\\nMIME-Version: 1.0\\r\\nSubject: Top News Stories HN 5-11-2021\\r\\nFrom: pierreloupgarrigues@gmail.com\\r\\nTo: pierre-loupg@hotmail.fr\\r\\n\\r\\n--===============5857226457224904349==\\r\\nContent-Type: text/html; charset=\"utf-8\"\\r\\nMIME-Version: 1.0\\r\\nContent-Transfer-Encoding: base64\\r\\n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\\r\\nPjxicj48YnI+RW5kIG9mIE1lc3NhZ2U=\\r\\n\\r\\n--===============5857226457224904349==--\\r\\n.\\r\\n'\n",
      "reply: b'250 2.0.0 OK  1636120619 j10sm7995219wru.15 - gsmtp\\r\\n'\n",
      "reply: retcode (250); Msg: b'2.0.0 OK  1636120619 j10sm7995219wru.15 - gsmtp'\n",
      "data: (250, b'2.0.0 OK  1636120619 j10sm7995219wru.15 - gsmtp')\n"
     ]
    },
    {
     "data": {
      "text/plain": [
       "{}"
      ]
     },
     "execution_count": 114,
     "metadata": {},
     "output_type": "execute_result"
    }
   ],
   "source": [
    "server.sendmail(FROM, TO, msg.as_string())"
   ]
  },
  {
   "cell_type": "code",
   "execution_count": 115,
   "id": "24b5f218-34a0-484e-9c8a-c5727026dcbc",
   "metadata": {},
   "outputs": [
    {
     "name": "stderr",
     "output_type": "stream",
     "text": [
      "send: 'quit\\r\\n'\n",
      "reply: b'221 2.0.0 closing connection j10sm7995219wru.15 - gsmtp\\r\\n'\n",
      "reply: retcode (221); Msg: b'2.0.0 closing connection j10sm7995219wru.15 - gsmtp'\n"
     ]
    },
    {
     "data": {
      "text/plain": [
       "(221, b'2.0.0 closing connection j10sm7995219wru.15 - gsmtp')"
      ]
     },
     "execution_count": 115,
     "metadata": {},
     "output_type": "execute_result"
    }
   ],
   "source": [
    "server.quit()"
   ]
  },
  {
   "cell_type": "code",
   "execution_count": null,
   "id": "1eeab508-7874-4f08-a7ca-01cdd4ab2772",
   "metadata": {},
   "outputs": [],
   "source": []
  }
 ],
 "metadata": {
  "kernelspec": {
   "display_name": "Python 3",
   "language": "python",
   "name": "python3"
  },
  "language_info": {
   "codemirror_mode": {
    "name": "ipython",
    "version": 3
   },
   "file_extension": ".py",
   "mimetype": "text/x-python",
   "name": "python",
   "nbconvert_exporter": "python",
   "pygments_lexer": "ipython3",
   "version": "3.8.8"
  }
 },
 "nbformat": 4,
 "nbformat_minor": 5
}
